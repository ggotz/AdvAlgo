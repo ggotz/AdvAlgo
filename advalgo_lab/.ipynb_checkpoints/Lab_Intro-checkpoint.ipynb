{
 "cells": [
  {
   "cell_type": "markdown",
   "metadata": {
    "id": "SNmh85jXGe53"
   },
   "source": [
    "# Προηγμένα Θέματα Αλγορίθμων\n",
    "\n",
    "## Εισαγωγή στα OR-tools"
   ]
  },
  {
   "cell_type": "markdown",
   "metadata": {
    "id": "be3oe4bRHUd4"
   },
   "source": [
    "Οι εργαστηριακές ασκήσεις έχουν ως στόχο να εξοικειωθείτε με την βιβλιοθήκη [OR-tools](https://developers.google.com/optimization) της Google και να εξασκηθείτε στην μοντελοποίηση προβλημάτων\n",
    "ως Integer Programs.\n",
    "\n",
    "Τα OR-tools είναι μια open source βιβλιοθήκη που παρέχει solvers για πολλά\n",
    "προβλήματα ([π.χ.](https://developers.google.com/optimization/introduction/overview) Linear/Integer Programming, Constraint Optimization, Vehicle Routing κλπ) και χρησιμοποιείται αρκετά σε πολλά πρακτικά προβλήματα, όπως για παράδειγμα η βελτιστοποίηση των δρομολογίων μεταφορικών εταιριών ή η ανάθεση εργασιών σε servers στο AWS."
   ]
  },
  {
   "cell_type": "markdown",
   "metadata": {
    "id": "_b2XJNNpKoqS"
   },
   "source": [
    "## Εγκατάσταση"
   ]
  },
  {
   "cell_type": "markdown",
   "metadata": {
    "id": "dkvsEH1YKzIk"
   },
   "source": [
    "Για την εγκατάσταση της βιβλιοθήκης ακολουθούμε τις οδηγίες που βρίσκονται [εδώ](https://developers.google.com/optimization/install). \n",
    "Για να εγκατασταθεί η βιβλιοθήκη μπορείτε να εκτελέσετε το επόμενο\n",
    "κελί κώδικα. \n",
    "\n",
    "Προσέξτε ότι αν τρέχετε το notebook σε κάποιο cloud service (π.χ. Google Colab) πιθανώς να χρειαστεί ένα runtime restart\n",
    "και θα πρέπει να τρέχετε την εντολή σε κάθε νέο jupyter που ανοίγετε.\n",
    "Αν τρέχετε την άσκηση τοπικά, η βιβλιοθήκη θα εγκατασταθεί μια φορά και θα την έχετε για όλες τις εργασίες."
   ]
  },
  {
   "cell_type": "code",
   "execution_count": null,
   "metadata": {
    "colab": {
     "base_uri": "https://localhost:8080/"
    },
    "id": "7wPuuX1gGeEA",
    "outputId": "3134448f-2c15-4eff-fa24-bed1acd22f79"
   },
   "outputs": [
    {
     "name": "stdout",
     "output_type": "stream",
     "text": [
      "Requirement already satisfied: ortools in /root/.local/lib/python3.7/site-packages (9.3.10497)\n",
      "Requirement already satisfied: protobuf>=3.19.4 in /root/.local/lib/python3.7/site-packages (from ortools) (3.19.4)\n",
      "Requirement already satisfied: numpy>=1.13.3 in /usr/local/lib/python3.7/dist-packages (from ortools) (1.21.5)\n",
      "Requirement already satisfied: absl-py>=0.13 in /usr/local/lib/python3.7/dist-packages (from ortools) (1.0.0)\n",
      "Requirement already satisfied: six in /usr/local/lib/python3.7/dist-packages (from absl-py>=0.13->ortools) (1.15.0)\n"
     ]
    }
   ],
   "source": [
    "!pip install --upgrade --user ortools"
   ]
  },
  {
   "cell_type": "markdown",
   "metadata": {
    "id": "qxyov66ffYR_"
   },
   "source": [
    "## Linear Programming Solvers"
   ]
  },
  {
   "cell_type": "markdown",
   "metadata": {
    "id": "0eGD6jny7K3W"
   },
   "source": [
    "Τα OR-tools μας παρέχουν πρόσβαση σε διάφορους open-source LP Solvers μέσα από το interface [MPSolver](https://developers.google.com/optimization/lp/mpsolver). Στο documentation της βιβλιοθήκης υπάρχει ένα εισαγωγικό [παράδειγμα](https://developers.google.com/optimization/lp/lp_example) που μας δείχνει\n",
    "πως κάνουμε initialize τον solver και πως μπορούμε να προσθέσουμε\n",
    "constraints και το objective. Ακόμα, υπάρχει ένα δεύτερο πιο προχωρημένο [παράδειγμα](https://developers.google.com/optimization/lp/stigler_diet) χρήσης, όπου λύνεται το Stigler's Diet.\n",
    "\n",
    "\n",
    "Σε αυτό το section θα παρουσιάσουμε ένα εισαγωγικό παράδειγμα για να εξοικειωθούμε με την βιβλιοθήκη και στην συνέχεια θα λύσουμε\n",
    "το πρόβλημα εύρεσης ενός Linear Classifier."
   ]
  },
  {
   "cell_type": "markdown",
   "metadata": {
    "id": "7tUufVS4YIix"
   },
   "source": [
    "### LP Example"
   ]
  },
  {
   "cell_type": "markdown",
   "metadata": {
    "id": "YgJZ_dce4pJ6"
   },
   "source": [
    "Έστω το ακόλουθο γραμμικό πρόγραμμα\n",
    "\n",
    "\\begin{align}\n",
    "    \\text{maximize} &\\quad x+y \\\\\n",
    "    &\\\\\n",
    "    \\text{subject to} &\\quad y-5x \\leq 0\\\\\n",
    "    &\\quad y+x-120 \\leq 0\\\\ \n",
    "    &\\\\\n",
    "    &\\quad \\frac{5}{7}x - y +\\frac{120}{7} \\leq 0\n",
    "\\end{align}\n",
    "\n",
    "\n",
    "Σαν ένα εισαγωγικό παράδειγμα, θα βρούμε την βέλτιστη\n",
    "λύση χρησιμοποιώντας τα or-tools"
   ]
  },
  {
   "cell_type": "code",
   "execution_count": null,
   "metadata": {
    "colab": {
     "base_uri": "https://localhost:8080/"
    },
    "id": "wyb2pGiA_c0P",
    "outputId": "e302c925-15e9-44de-cd3d-e2e4e95902c9"
   },
   "outputs": [
    {
     "name": "stdout",
     "output_type": "stream",
     "text": [
      "Number of variables = 2\n"
     ]
    }
   ],
   "source": [
    "# Κάνουμε import και αρχικοποιούμε τον LP Solver\n",
    "from ortools.linear_solver import pywraplp\n",
    "\n",
    "solver = pywraplp.Solver.CreateSolver('GLOP')\n",
    "\n",
    "# Ορίζουμε δύο μεταβλητές x και y οι οποίες παίρνουν θετικές τιμές\n",
    "# Αντίστοιχα μπορείτε να βάλετε όποιο άνω και κάτω όριο θέλετε\n",
    "\n",
    "x = solver.NumVar(0, solver.infinity(), 'x')\n",
    "y = solver.NumVar(0, solver.infinity(), 'y')\n",
    "\n",
    "# Με την συνάρτηση solver.NumVariables() βλέπουμε πόσες\n",
    "# μεταβλητές έχουν οριστεί πάνω στο instance του solver\n",
    "# με το οποίο δουλεύουμε\n",
    "\n",
    "print('Number of variables =', solver.NumVariables())"
   ]
  },
  {
   "cell_type": "code",
   "execution_count": null,
   "metadata": {
    "id": "EE0hsSgixxzU"
   },
   "outputs": [],
   "source": [
    "# Προσθέτουμε τα constraints του προβλήματος\n",
    "\n",
    "solver.Add(y - 5*x <= 0)\n",
    "\n",
    "solver.Add(y + x - 120 <= 0)\n",
    "\n",
    "solver.Add(5/7 * x - y + 120/7 <= 0)\n",
    "\n",
    "# Προσθέτουμε το objective \n",
    "# Αντίστοιχα με την minimize, μπορούμε να χρησιμοποιήσουμε και την maximize\n",
    "solver.Maximize(x+y)\n",
    "\n",
    "# Και τέλος, καλούμε την Solve\n",
    "status = solver.Solve()\n",
    "\n",
    "# Με την παρακάτω εντολή μπορούμε να θέσουμε και χρονικό\n",
    "# όριο για την αναζήτηση της λύσης, δίνοντας τον χρόνο σε δευτερόλεπτα\n",
    "\n",
    "solver.set_time_limit(15)"
   ]
  },
  {
   "cell_type": "code",
   "execution_count": null,
   "metadata": {
    "colab": {
     "base_uri": "https://localhost:8080/"
    },
    "id": "PRUMy73yyFTf",
    "outputId": "a0965ff8-9ee2-434e-d665-d95d58c8adc6"
   },
   "outputs": [
    {
     "name": "stdout",
     "output_type": "stream",
     "text": [
      "Solution:\n",
      "Objective value = 120.000\n",
      "x = 20.000\n",
      "y = 100.000\n"
     ]
    }
   ],
   "source": [
    "# Με το status ελέγχουμε αν έχει τελειώσει η αναζήτηση για την λύση\n",
    "# Το status θα είναι ιδιαίτερα χρήσιμο στους Integer Programming solvers\n",
    "# όπου η αναζήτηση παίρνει σημαντικά περισσότερο χρόνο και μπορεί να θέλουμε\n",
    "# να σταματήσουμε νωρίτερα ή απλά μόλις βρεθεί μια feasible λύση\n",
    "\n",
    "if status == pywraplp.Solver.OPTIMAL:\n",
    "    # με το Objective().value() έχουμε πρόσβαση στην βέλτιστη τιμή του objective\n",
    "    # ενώ με το .solution_value() σε κάποια μεταβλητή του solver, μπορούμε\n",
    "    # να πάρουμε την τιμή της στην βέλτιστη λύση\n",
    "    print('Solution:')\n",
    "    print(f'Objective value = {solver.Objective().Value():.3f}')\n",
    "    print(f'x = {x.solution_value():.3f}')\n",
    "    print(f'y = {y.solution_value():.3f}')\n",
    "else:\n",
    "    print('The problem does not have an optimal solution.')"
   ]
  },
  {
   "cell_type": "markdown",
   "metadata": {
    "id": "IDtF05mKYPZm"
   },
   "source": [
    "### Finding a Linear Classifier as an LP program"
   ]
  },
  {
   "cell_type": "markdown",
   "metadata": {
    "id": "1w_pxzl3Y5wT"
   },
   "source": [
    "Σε αυτό το παράδειγμα θα ασχοληθούμε με το θεμελιώδες πρόβλημα εκμάθησης ενός γραμμικού διαχωριστή. Στο συγκεκριμένο πρόβλημα,\n",
    "θα μας δίνονται σημεία στο $\\ \\mathbb{R}^2$ και ένα label \n",
    "(στο $\\{0,1\\}$) για κάθε σημείο. Θεωρούμε ότι τα σημεία που μας\n",
    "δίνονται θα είναι γραμμικά διαχωρίσιμα, δηλαδή θα υπάρχει μια ευθεία $h(x,y) = \\alpha x + \\beta y + \\gamma\\ $ για την οποία\n",
    "όλα τα σημεία με label $0$ βρίσκονται στο ίδιο ημιεπίπεδο\n",
    "και όλα τα σημεία με label $1$ πέφτουν στο άλλο ημιεπίπεδο\n",
    "που ορίζει. Δηλαδή,\n",
    "\n",
    "\n",
    "*   για κάθε σημείο $(x_1,y_1)$ με label $0$ θα ισχύει ότι $h(x_1,y_1) > 0$\n",
    "*   για κάθε σημείο $(x_2,y_2)$ με label $1$ θα ισχύει ότι $h(x_2,y_2) < 0$\n",
    "\n",
    "Τις περισσότερες φορές, για τα δεδομένα μας υπάρχουν αρκετές\n",
    "τέτοιες ευθείες. Ωστόσο, μερικές από αυτές μπορεί να βρίσκονται\n",
    "αρκετά κοντά στο σύνορο των δεδομένων και πιθανώς να κατηγοροποιήσουν λανθασμένα σημεία που θα έρθουν στο μέλλον.\n",
    "Για τον λόγο αυτό, θέλουμε να διαλέξουμε την ευθεία που μεγιστοποιεί το περιθώριο μέχρι τα δεδομένα. Δηλαδή, θέλουμε\n",
    "να βρούμε το μέγιστο $\\ \\delta$ ώστε να ισχύει:\n",
    "\n",
    "\n",
    "*   για κάθε σημείο $(x_1,y_1)$ με label $0$ : $h(x_1,y_1) > \\delta$\n",
    "*   για κάθε σημείο $(x_2,y_2)$ με label $1$ : $h(x_2,y_2) < -\\delta$"
   ]
  },
  {
   "cell_type": "markdown",
   "metadata": {
    "id": "8i40a0zliktq"
   },
   "source": [
    "Το παραπάνω πρόβλημα εκφράζεται σαν ένα πρόβλημα Γραμμικού Προγραμματισμού όπου οι μεταβλητές είναι οι συντελεστές της ευθείας $\\ \\alpha, \\beta, \\gamma\\ $ και το περιθώριο $\\ \\delta$.\n",
    "\n",
    "\\begin{align}\n",
    "    \\text{maximize} &\\quad \\delta &\\\\\n",
    "    &\\\\\n",
    "    \\text{subject to} &\\quad \\alpha x_i + \\beta y_i + \\gamma \\geq \\delta & \\forall\\ \\text{ positive point } (x_i,y_i) \\\\\n",
    "    &\\\\\n",
    "    &\\quad \\alpha x_i + \\beta y_i + \\gamma \\leq -\\delta & \\forall\\ \\text{ negative point } (x_i,y_i) \\\\ \n",
    "\\end{align}"
   ]
  },
  {
   "cell_type": "markdown",
   "metadata": {
    "id": "si7KZNeqeunT"
   },
   "source": [
    "\n",
    "Παρατηρείστε ότι αν έχουμε μια feasible λύση $\\ (\\alpha, \\beta, \\gamma, \\delta)$ για το παραπάνω LP, τότε το και $\\ c \\cdot \\ (\\alpha, \\beta, \\gamma, \\delta)$ είναι feasible λύση για κάθε $c > 0$. Επομένως, το παραπάνω πρόγραμμα θα είναι unbounded αφού μπορούμε\n",
    "να αυξήσουμε το $\\ \\delta$ οσοδήποτε θέλουμε ενώ η λύση θα παραμένει η ίδια ευθεία. Για αυτό, θα προσθέσουμε και έναν περιορισμό για το \n",
    "$ \\delta$, επιτρέποντάς του να πάρει τιμές μόνο στο $[0,1]$."
   ]
  },
  {
   "cell_type": "code",
   "execution_count": null,
   "metadata": {
    "colab": {
     "base_uri": "https://localhost:8080/",
     "height": 458
    },
    "id": "fngOjAgwm6-B",
    "outputId": "117df254-040d-4f1b-e1ae-7694484dbfa2"
   },
   "outputs": [
    {
     "data": {
      "image/png": "[encoded data removed]",
      "text/plain": [
       "<Figure size 504x504 with 1 Axes>"
      ]
     },
     "metadata": {
      "needs_background": "light"
     },
     "output_type": "display_data"
    }
   ],
   "source": [
    "# Input example\n",
    "import matplotlib.pyplot as plt\n",
    "\n",
    "c1 = [ (-1,3), (-2,2), (-1,1.5), (-1.73,0.5), (-0.5,0.5), (0.1,1), (2,-3),\n",
    "       (-1.8, -1), (-1,-2), (0.42, -1.8), (1,-2.5), (1.73, -0.5), (2,-2.5)]\n",
    "\n",
    "c2 = [ (1,4), (2.5,4.5), (1.5,3), (2.2, 2.9), (3.1, 3.5), (3.5,3.1), (1.5,1.5), (3,2),\n",
    "       (3.4,1.1), (4.9,0.5), (5.1, 1.6), (6,2.5), (3,-0.73), (4.55,-2), (4.6,-1.5), (5.5,-1)]\n",
    "\n",
    "x_c1 = [a[0] for a in c1]\n",
    "y_c1 = [a[1] for a in c1]\n",
    "\n",
    "x_c2 = [a[0] for a in c2]\n",
    "y_c2 = [a[1] for a in c2]\n",
    "\n",
    "plt.figure(figsize=(7,7))\n",
    "plt.plot(x_c1, y_c1, 'ro', label='$\\omega_1$')\n",
    "plt.plot(x_c2, y_c2, 'bo', label='$\\omega_2$')\n",
    "plt.title('Samples')\n",
    "plt.xlabel('x')\n",
    "plt.ylabel('y')\n",
    "plt.grid(True)\n",
    "plt.legend()\n",
    "plt.show()\n"
   ]
  },
  {
   "cell_type": "markdown",
   "metadata": {
    "id": "eESDFBY6QXHW"
   },
   "source": [
    "Θα υλοποιήσουμε μια συνάρτηση που δέχεται τα σημεία των δύο κλάσεων\n",
    "και υπολογίζει τον βέλτιστο γραμμικό ταξινομητή χρησιμοποιώντας το\n",
    "Linear Programm που παρουσιάσαμε."
   ]
  },
  {
   "cell_type": "code",
   "execution_count": null,
   "metadata": {
    "id": "9tLv2tWFQFWs"
   },
   "outputs": [],
   "source": [
    "'''\n",
    "Parameters:\n",
    "  - c1 : list of points that belong to class 1\n",
    "  - c2 : list of points that belong to class 2\n",
    "\n",
    "Returns:\n",
    "  (a,b,c): a tuple with the coefficients of the linear classifier ax + by + c \n",
    "'''\n",
    "def linear_classifier(c1, c2):\n",
    "  solver = pywraplp.Solver.CreateSolver('GLOP')\n",
    "\n",
    "  # Ορίζουμε τις μεταβλητές του LP\n",
    "  infinity = solver.infinity()\n",
    "\n",
    "  a = solver.NumVar(-infinity, infinity, 'alpha')\n",
    "  b = solver.NumVar(-infinity, infinity, 'beta')\n",
    "  c = solver.NumVar(-infinity, infinity, 'gamma')\n",
    "  \n",
    "  d = solver.NumVar(0, 1, 'delta')\n",
    "\n",
    "  # Προσθέτουμε τους περιορισμούς για κάθε data point\n",
    "\n",
    "  for (x,y) in c1:\n",
    "    solver.Add(a*x + b*y + c  >= d)\n",
    "  \n",
    "  for (x,y) in c2:\n",
    "    solver.Add(a*x + b*y + c  <= -d)\n",
    "  \n",
    "  # Ο στόχος μας είναι να μεγιστοποιήσουμε το περιθώριο d\n",
    "  solver.Maximize(d)\n",
    "\n",
    "  status = solver.Solve()\n",
    "\n",
    "  if status == solver.OPTIMAL or status == solver.FEASIBLE:\n",
    "    result = (a.solution_value(), b.solution_value(), c.solution_value())\n",
    "\n",
    "    if result == (0,0,0):\n",
    "      print('The two classes are not linearly seperable.')\n",
    "      return None\n",
    "    \n",
    "    print(f'The linear classifier is the line {result[0]:.3f}x + {result[1]:.3f}y + {result[2]:.3f} = 0\\n')\n",
    "    return result\n",
    "  \n",
    "  return None\n",
    "    \n"
   ]
  },
  {
   "cell_type": "code",
   "execution_count": null,
   "metadata": {
    "colab": {
     "base_uri": "https://localhost:8080/",
     "height": 493
    },
    "id": "7-8YBobATdl2",
    "outputId": "b4a24937-bac3-4f2a-9a18-2bfaf6e4b498"
   },
   "outputs": [
    {
     "name": "stdout",
     "output_type": "stream",
     "text": [
      "The linear classifier is the line -1.793x + -1.206y + 3.499 = 0\n",
      "\n"
     ]
    },
    {
     "data": {
      "image/png": "[encoded data removed]",
      "text/plain": [
       "<Figure size 504x504 with 1 Axes>"
      ]
     },
     "metadata": {
      "needs_background": "light"
     },
     "output_type": "display_data"
    }
   ],
   "source": [
    "# Results\n",
    "\n",
    "a,b,c = linear_classifier(c1, c2)\n",
    "\n",
    "# Plot the linear classifier\n",
    "\n",
    "# calculate y coordinate from x\n",
    "h_y = lambda x: -1*(a*x+c)/b\n",
    "\n",
    "min_x = min(min(x_c1), min(x_c2))\n",
    "max_x = max(max(x_c1), max(x_c2))\n",
    "\n",
    "plt.figure(figsize=(7,7))\n",
    "plt.plot(x_c1, y_c1, 'ro', label='$\\omega_1$')\n",
    "plt.plot(x_c2, y_c2, 'bo', label='$\\omega_2$')\n",
    "plt.plot([min_x, max_x], [h_y(min_x), h_y(max_x)], 'black', label = 'h(x,y) = 0')\n",
    "plt.title('Samples')\n",
    "plt.xlabel('x')\n",
    "plt.ylabel('y')\n",
    "plt.grid(True)\n",
    "plt.legend()\n",
    "plt.show()"
   ]
  },
  {
   "cell_type": "markdown",
   "metadata": {
    "id": "1UkUQX2w_GSj"
   },
   "source": [
    "## Integer Programming Solvers"
   ]
  },
  {
   "cell_type": "markdown",
   "metadata": {
    "id": "OjP-3QPeYUNy"
   },
   "source": [
    "### Solving Set Cover"
   ]
  },
  {
   "cell_type": "markdown",
   "metadata": {
    "id": "Q8JRhRWr1tl_"
   },
   "source": [
    "Η πιο ενδιαφέρουσα περίπτωση, ωστόσο, είναι οι Integer Programming\n",
    "solvers διότι μας δίνουν την δυνατότητα να λύσουμε μικρά instances\n",
    "προβλημάτων τα οποία είναι NP-hard. Στο επόμενο παράδειγμα, θα λύσουμε το Set Cover."
   ]
  },
  {
   "cell_type": "markdown",
   "metadata": {
    "id": "aLS8VE1Z2tTL"
   },
   "source": [
    "Στο Set Cover, μας δίνεται ένα σύνολο $n$ στοιχείων, $\\ \\mathcal{U} = \\{1,2,\\dots,n\\}$, και μια συλλογή υποσυνόλων του  $\\ \\mathcal{U}\\ $, $\\ \\mathcal{S} = \\{S_1, \\dots, S_m\\}$.\n",
    "\n",
    "Στόχος μας είναι να διαλέξουμε τα λιγότερα δυνατά υποσύνολα $S_i$,\n",
    "έτσι ώστε η ένωσή τους να είναι ίση με το $\\ \\mathcal{U}$\n",
    "\n",
    "Το πρόβλημα αυτό μπορεί να γραφτεί ως ένα Integer Program. Ορίζουμε για κάθε σύνολο $S_i$, μια μεταβλητή $x_i\\in\\{0,1\\}$\n",
    "που θα παίρνει την τιμή $1$ αν διαλέγουμε το $S_i$ στην λύση μας\n",
    "και $0$ διαφορετικά.\n",
    "\n",
    "Ο μοναδικός περιορισμός που έχουμε είναι για κάθε στοιχείο του $\\ \\mathcal{U}$ να έχουμε πάρει\n",
    "τουλάχιστον ένα σύνολο το οποίο περιέχει το στοιχείο αυτό.\n",
    "\n",
    "Συνολικά, το Set Cover μοντελοποιείται ως εξής:\n",
    "\n",
    "\n",
    "\\begin{align}\n",
    "    \\text{minimize} &\\quad \\sum_{i=1}^m x_i &\\\\\n",
    "    &\\\\\n",
    "    \\text{subject to} &\\quad \\sum_{i: j \\in S_i} x_i \\geq 1 & \\forall j \\in \\mathcal{U}\\\\\n",
    "    &\\\\\n",
    "    &\\quad x_i  \\in \\{0,1\\} & \\forall i \\in [m]\\\\ \n",
    "\\end{align}\n",
    "\n"
   ]
  },
  {
   "cell_type": "code",
   "execution_count": null,
   "metadata": {
    "id": "3Guvuhzb2s4_"
   },
   "outputs": [],
   "source": [
    "from ortools.linear_solver import pywraplp\n",
    "\n",
    "'''\n",
    "Parameters:\n",
    "  - n : the number of the elements in the universe U\n",
    "  - S : a list of m lists containing numbers from 1 to n (inclusive)\n",
    "        representing different subsets of U\n",
    "example:\n",
    "\n",
    "solve_set_cover(4, [ [1,2], [3,4], [1,2,4], [3] ])\n",
    "'''\n",
    "def solve_set_cover(n, S):\n",
    "  \n",
    "  # Αρχικοποιούμε τον MIP solver\n",
    "  solver = pywraplp.Solver.CreateSolver('SCIP')\n",
    "\n",
    "  # Δημιουργούμε ένα hashtable που για κάθε στοιχείο\n",
    "  # του universe κρατάει μια λίστα με τα σύνολα που συμπεριλαμβάνουν\n",
    "  # αυτό το στοιχείο\n",
    "\n",
    "  m = len(S) # αριθμός υποσυνόλων\n",
    "\n",
    "  sets = {}\n",
    "\n",
    "  for u in range(n):\n",
    "    sets[u] = []\n",
    "\n",
    "  for i in range(m):\n",
    "    for u in S[i]:\n",
    "      sets[u].append(i)\n",
    "\n",
    "  # Δημιουργούμε επίσης ένα πίνακα από μεταβλητές.\n",
    "  # Το x[i] θα είναι μια ακέραια μεταβλητή που αντιστοιχεί\n",
    "  # στο i-οστό υποσύνολο του U, το S[i].\n",
    "  x = {}\n",
    "\n",
    "  for i in range(m):\n",
    "    x[i] = solver.IntVar(0, 1, f'S_{i}')\n",
    "    # Η εντολή αυτή φτιάχνει μια νέα ακέραια μεταβλητή\n",
    "    # με όρια το 0 και το 1\n",
    "  \n",
    "  print(f'Number of different subsets = {m}')\n",
    "  print(f'Number of variables constructed = {solver.NumVariables()}')\n",
    "\n",
    "  # Τώρα για κάθε στοιχείο του U, θέλουμε το άθροισμα των μεταβλητών\n",
    "  # των συνόλων που το περιέχουν να είναι μεγαλύτερο ή ίσο του 1\n",
    "\n",
    "  for j in range(n):\n",
    "    # Για να αθροίσουμε ένα μη-σταθερό πλήθος μεταβλητών\n",
    "    # μπορούμε να βάλουμε τις μεταβλητές σε μια λίστα\n",
    "    # και να τις δώσουμε στην solver.Sum()\n",
    "    solver.Add( solver.Sum([ x[i] for i in sets[j] ]) >= 1 )\n",
    "  \n",
    "\n",
    "  # Objective Function\n",
    "  solver.Minimize(solver.Sum([x[i] for i in range(m)]))\n",
    "\n",
    "  # Τώρα είμαστε έτοιμοι να καλέσουμε την solve.\n",
    "  # Επειδή τα IP παίρνουν αρκετό χρόνο, είναι καλό να δίνουμε\n",
    "  # και ένα time limit\n",
    "\n",
    "  solver.set_time_limit(20) # 20 sec\n",
    "\n",
    "  status = solver.Solve()\n",
    "\n",
    "  # Στους Integer Programming Solvers δεν βρίσκουμε απαραίτητα την βέλτιστη λύση.\n",
    "  # Επίσης, κάποιες φορές μπορεί να μας ενδιαφέρει απλά αν ο χώρος των λύσεων\n",
    "  # είναι μη-κενός, δηλαδή αν υπάρχει feasible λύση.\n",
    "  \n",
    "  result = [] \n",
    "\n",
    "  if status == pywraplp.Solver.OPTIMAL or status == pywraplp.Solver.FEASIBLE:\n",
    "    print('Total cost = ', solver.Objective().Value(), '\\n')\n",
    "    result = [i for i in range(m) if x[i].solution_value() > 0]\n",
    "\n",
    "    print(f'Sets picked: {\", \".join(list(map(str,result)))}')\n",
    "  \n",
    "  return result"
   ]
  },
  {
   "cell_type": "markdown",
   "metadata": {
    "id": "BzWXEDh5M5JT"
   },
   "source": [
    "Ας χρησιμοποιήσουμε την υλοποίησή μας για να επιλύσουμε το παρακάτω παράδειγμα:\n",
    "\n",
    "![set_cover_2.png](data:image/png;base64,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)"
   ]
  },
  {
   "cell_type": "code",
   "execution_count": null,
   "metadata": {
    "colab": {
     "base_uri": "https://localhost:8080/"
    },
    "id": "del7Ju6bMpo7",
    "outputId": "d4e8ae03-d857-41fc-9a2f-121632fe143a"
   },
   "outputs": [
    {
     "name": "stdout",
     "output_type": "stream",
     "text": [
      "Number of different subsets = 6\n",
      "Number of variables constructed = 6\n",
      "Total cost =  3.0 \n",
      "\n",
      "Sets picked: 0, 4, 5\n"
     ]
    }
   ],
   "source": [
    "# Παράδειγμα εκτέλεσης\n",
    "\n",
    "n = 10\n",
    "\n",
    "S = [\n",
    "     [0,5,6],         #S_0\n",
    "     [1, 2, 6, 7],    #S_1\n",
    "     [3, 8],          #S_2\n",
    "     [4, 9],          #S_3\n",
    "     [0, 1, 2, 3, 4], #S_4\n",
    "     [7, 8, 9]        #S_5\n",
    "]\n",
    "\n",
    "_ = solve_set_cover(n,S)\n"
   ]
  }
 ],
 "metadata": {
  "colab": {
   "collapsed_sections": [],
   "name": "AdvancedAlgo_Lab_Intro.ipynb",
   "provenance": [],
   "toc_visible": true
  },
  "kernelspec": {
   "display_name": "Python 3 (ipykernel)",
   "language": "python",
   "name": "python3"
  },
  "language_info": {
   "codemirror_mode": {
    "name": "ipython",
    "version": 3
   },
   "file_extension": ".py",
   "mimetype": "text/x-python",
   "name": "python",
   "nbconvert_exporter": "python",
   "pygments_lexer": "ipython3",
   "version": "3.11.3"
  }
 },
 "nbformat": 4,
 "nbformat_minor": 1
}
